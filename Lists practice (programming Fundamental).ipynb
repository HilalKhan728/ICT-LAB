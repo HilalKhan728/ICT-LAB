{
 "cells": [
  {
   "cell_type": "code",
   "execution_count": 51,
   "metadata": {},
   "outputs": [
    {
     "name": "stdout",
     "output_type": "stream",
     "text": [
      "['Hilal Ahmad Khan', '25 years', 'imsciences University,']\n"
     ]
    }
   ],
   "source": [
    "thislist=[\"Hilal Ahmad Khan\",\"25 years\",\"imsciences University,\"]\n",
    "print(thislist)\n"
   ]
  },
  {
   "cell_type": "code",
   "execution_count": 52,
   "metadata": {},
   "outputs": [
    {
     "name": "stdout",
     "output_type": "stream",
     "text": [
      "['Hilal Ahmad Khan', '25 years', 'imsciences University', 'Imsciences university', '25 years']\n"
     ]
    }
   ],
   "source": [
    "thislist=[\"Hilal Ahmad Khan\",\"25 years\",\"imsciences University\",\"Imsciences university\",\"25 years\"]\n",
    "print(thislist)\n"
   ]
  },
  {
   "cell_type": "code",
   "execution_count": 53,
   "metadata": {},
   "outputs": [
    {
     "name": "stdout",
     "output_type": "stream",
     "text": [
      "3\n"
     ]
    }
   ],
   "source": [
    "thislist=[\"Hilal Ahmad Khan\",\"25 years\",\"imsciences University\"]\n",
    "print(len(thislist))"
   ]
  },
  {
   "cell_type": "code",
   "execution_count": 54,
   "metadata": {},
   "outputs": [
    {
     "name": "stdout",
     "output_type": "stream",
     "text": [
      "['montly Expenses'] [1, 13, 67, 82] [True, False] ['and,or,and/or'] [8.0, 4.5, 3.9]\n"
     ]
    }
   ],
   "source": [
    "list1=[\"montly Expenses\"]\n",
    "list2=[1,13,67,82]\n",
    "list3=[True,False]\n",
    "list4=[\"and,or,and/or\"]\n",
    "list5=[8.0,4.5,3.9]\n",
    "print(list1,list2,list3,list4,list5)"
   ]
  },
  {
   "cell_type": "code",
   "execution_count": 55,
   "metadata": {},
   "outputs": [
    {
     "name": "stdout",
     "output_type": "stream",
     "text": [
      "True,False\n"
     ]
    }
   ],
   "source": [
    "list3=[\"True,False\"]\n",
    "print(list3[0])"
   ]
  },
  {
   "cell_type": "code",
   "execution_count": 56,
   "metadata": {},
   "outputs": [
    {
     "name": "stdout",
     "output_type": "stream",
     "text": [
      "['Hilal', 20, 6.8, True]\n"
     ]
    }
   ],
   "source": [
    "Mylist=[\"Hilal\",20,6.8,True]\n",
    "print(Mylist)"
   ]
  },
  {
   "cell_type": "code",
   "execution_count": 57,
   "metadata": {},
   "outputs": [
    {
     "name": "stdout",
     "output_type": "stream",
     "text": [
      "90\n"
     ]
    }
   ],
   "source": [
    "Yourlist=[\"Books\",90,120.8,True]\n",
    "print(Yourlist[-3])"
   ]
  },
  {
   "cell_type": "code",
   "execution_count": 58,
   "metadata": {},
   "outputs": [
    {
     "name": "stdout",
     "output_type": "stream",
     "text": [
      "['Hilal', 20, 6.8, True]\n"
     ]
    }
   ],
   "source": [
    "Theirlist=[\"Hilal\",20,6.8,True,\"Marks given\"]\n",
    "print(Theirlist[0:4])"
   ]
  }
 ],
 "metadata": {
  "kernelspec": {
   "display_name": "base",
   "language": "python",
   "name": "python3"
  },
  "language_info": {
   "codemirror_mode": {
    "name": "ipython",
    "version": 3
   },
   "file_extension": ".py",
   "mimetype": "text/x-python",
   "name": "python",
   "nbconvert_exporter": "python",
   "pygments_lexer": "ipython3",
   "version": "3.10.9"
  }
 },
 "nbformat": 4,
 "nbformat_minor": 2
}
