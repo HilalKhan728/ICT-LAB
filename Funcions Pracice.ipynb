{
 "cells": [
  {
   "cell_type": "code",
   "execution_count": 1,
   "metadata": {},
   "outputs": [
    {
     "name": "stdout",
     "output_type": "stream",
     "text": [
      "maximum value is 20\n",
      "minimum value is -15\n"
     ]
    }
   ],
   "source": [
    "numbers=[1,0,2,3,6,7,-15,20]\n",
    "print(\"maximum value is\",max(numbers))\n",
    "print(\"minimum value is\",min(numbers))"
   ]
  },
  {
   "cell_type": "code",
   "execution_count": 13,
   "metadata": {},
   "outputs": [
    {
     "name": "stdout",
     "output_type": "stream",
     "text": [
      "7\n",
      "13\n",
      "19\n",
      "25\n",
      "5\n",
      "20\n",
      "30\n"
     ]
    }
   ],
   "source": [
    "def my_function(x):\n",
    "    sum=4+x\n",
    "    return(sum)\n",
    "print(my_function(3))\n",
    "print(my_function(9))\n",
    "print(my_function(15))\n",
    "\n",
    "def my_2_function(y):\n",
    "    product=5*y\n",
    "    return(product)\n",
    "print(my_2_function(5))\n",
    "print(my_2_function(1))\n",
    "print(my_2_function(4))\n",
    "print(my_2_function(6))"
   ]
  },
  {
   "cell_type": "code",
   "execution_count": 8,
   "metadata": {},
   "outputs": [
    {
     "name": "stdout",
     "output_type": "stream",
     "text": [
      "15\n",
      "15\n",
      "3\n",
      "2.0\n"
     ]
    }
   ],
   "source": [
    "def sub(a,b):\n",
    "    answer=a-b\n",
    "    return answer\n",
    "def divide(a,b):\n",
    "    answer_1=a/b\n",
    "    return answer_1\n",
    "def multiply(x,y):\n",
    "    answer_2=x*y\n",
    "    return answer_2\n",
    "print(multiply(3,5))\n",
    "def sum(q,r):\n",
    "    answer_3=q+r\n",
    "    return answer_3\n",
    "print(sum(6,9))\n",
    "print(sub(6,3))\n",
    "print(divide(6,3))"
   ]
  }
 ],
 "metadata": {
  "kernelspec": {
   "display_name": "Python 3",
   "language": "python",
   "name": "python3"
  },
  "language_info": {
   "codemirror_mode": {
    "name": "ipython",
    "version": 3
   },
   "file_extension": ".py",
   "mimetype": "text/x-python",
   "name": "python",
   "nbconvert_exporter": "python",
   "pygments_lexer": "ipython3",
   "version": "3.11.9"
  }
 },
 "nbformat": 4,
 "nbformat_minor": 2
}
